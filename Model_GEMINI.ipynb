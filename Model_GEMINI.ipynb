{
 "cells": [
  {
   "cell_type": "code",
   "execution_count": 6,
   "metadata": {},
   "outputs": [],
   "source": [
    "import google.generativeai as genai\n",
    "import os\n",
    "from dotenv import load_dotenv\n",
    "\n",
    "# .env 파일 로드\n",
    "load_dotenv()\n",
    "\n",
    "# 환경 변수에서 GPT API 키 가져오기\n",
    "google_key = os.getenv(\"GOOGLE_API_KEY\")"
   ]
  },
  {
   "cell_type": "code",
   "execution_count": null,
   "metadata": {},
   "outputs": [],
   "source": [
    "genai.configure(api_key=google_key)\n",
    "model = genai.GenerativeModel('gemini-1.5-flash') "
   ]
  },
  {
   "cell_type": "code",
   "execution_count": null,
   "metadata": {},
   "outputs": [],
   "source": [
    "# 구글 api 키 확인\n",
    "google_key"
   ]
  },
  {
   "cell_type": "code",
   "execution_count": 3,
   "metadata": {},
   "outputs": [],
   "source": [
    "from operator import itemgetter\n",
    "from langchain.memory import ConversationBufferMemory\n",
    "from langchain_core.prompts import ChatPromptTemplate, MessagesPlaceholder\n",
    "from langchain_core.runnables import RunnableLambda, RunnablePassthrough\n",
    "from langchain_openai import ChatOpenAI"
   ]
  },
  {
   "cell_type": "code",
   "execution_count": null,
   "metadata": {},
   "outputs": [],
   "source": [
    "import json\n",
    "import os\n",
    "\n",
    "path = \"chat_history_gemini.json\"\n",
    "\n",
    "\n",
    "# 대화 기록 로드 함수\n",
    "def load_history():\n",
    "    if os.path.exists(path):\n",
    "        with open(path, \"r\", encoding = \"utf-8\") as file:\n",
    "            return json.load(file)\n",
    "    return [{\"role\" : \"system\", \"content\" : \"당신은 친절한 화장품 안내 가이드입니다\"}]\n",
    "\n",
    "# 대화 기록 저장 함수\n",
    "def save_history(messages):\n",
    "    with open(path, \"w\", encoding = \"utf-8\",) as file:\n",
    "        json.dump(messages, file, ensure_ascii = False, indent = 4)\n",
    "\n",
    "\n",
    "# gpt 모델 호출 함수\n",
    "def get_completion_from_messages(messages, temperature = 1):\n",
    "    response = client.chat.completions.create(\n",
    "        model = \"gemini-1.5-flash\",\n",
    "        messages = messages,\n",
    "        temperature = temperature\n",
    "    )\n",
    "    return response.choices[0].message.content"
   ]
  },
  {
   "cell_type": "code",
   "execution_count": null,
   "metadata": {},
   "outputs": [],
   "source": [
    "import google.generativeai as genai\n",
    "import json\n",
    "\n",
    "# Google Gemini API 설정\n",
    "genai.configure(api_key=google_key)\n",
    "\n",
    "# 시스템 메시지 설정\n",
    "system_instruction = \"\"\"당신은 친절한 화장품 안내 가이드 챗봇명 피카추야 \n",
    "질문자가 원하는 종류의 화장품을 추천해줘.\"\"\"\n",
    "\n",
    "model = genai.GenerativeModel('gemini-1.5-flash', system_instruction=system_instruction)\n",
    "\n",
    "# JSON 파일 경로\n",
    "history_file = \"chat_history_gemini.json\"\n",
    "\n",
    "# 대화 기록 로드 함수\n",
    "def load_history():\n",
    "    if os.path.exists(history_file): \n",
    "        with open(history_file, \"r\", encoding=\"utf-8\") as file:\n",
    "            return json.load(file)\n",
    "    # 파일이 없으면 기본 시스템 메시지 반환\n",
    "    return [{\"role\": \"system\", \"parts\": [system_instruction]}]\n",
    "\n",
    "# 대화 기록 저장 함수\n",
    "def save_history(messages):\n",
    "    with open(history_file, \"w\", encoding=\"utf-8\") as file:\n",
    "        json.dump(messages, file, ensure_ascii=False, indent=4)\n",
    "\n",
    "# 대화 시작\n",
    "messages = []\n",
    "print(\"챗봇(피카추) : 반갑습니다 화장품 안내 가이드 피카추입니다 !\") \n",
    "while True:\n",
    "    user_input = input(\"사용자: \")\n",
    "    if user_input.lower() in [\"exit\", \"quit\", \"종료\", \"나가기\"]:\n",
    "        print(\"챗봇 : 대화를 종료합니다.\")\n",
    "        save_history(messages)  # 대화 기록 저장\n",
    "        break\n",
    "\n",
    "    # 사용자 입력 추가\n",
    "    messages.append({\"role\": \"user\", \"parts\": [user_input]})\n",
    "\n",
    "    # AI 응답 생성\n",
    "    response = model.generate_content(messages)\n",
    "\n",
    "    # 응답 추가\n",
    "    messages.append({\"role\": \"assistant\", \"parts\": [response.text]})\n",
    "\n",
    "    # 대화 출력\n",
    "    print(f\"사용자 : {user_input} \\n챗봇 : {response.text}\\n\")"
   ]
  },
  {
   "cell_type": "code",
   "execution_count": null,
   "metadata": {},
   "outputs": [],
   "source": []
  }
 ],
 "metadata": {
  "kernelspec": {
   "display_name": "langchain",
   "language": "python",
   "name": "python3"
  },
  "language_info": {
   "codemirror_mode": {
    "name": "ipython",
    "version": 3
   },
   "file_extension": ".py",
   "mimetype": "text/x-python",
   "name": "python",
   "nbconvert_exporter": "python",
   "pygments_lexer": "ipython3",
   "version": "3.11.10"
  }
 },
 "nbformat": 4,
 "nbformat_minor": 2
}
