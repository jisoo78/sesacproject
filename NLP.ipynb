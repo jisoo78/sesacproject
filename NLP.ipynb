{
 "cells": [
  {
   "cell_type": "code",
   "execution_count": 2,
   "metadata": {},
   "outputs": [],
   "source": [
    "from selenium import webdriver\n",
    "from selenium.webdriver.common.keys import Keys\n",
    "from selenium.webdriver.support.wait import WebDriverWait\n",
    "from selenium.webdriver.support import expected_conditions as EC\n",
    "from selenium.webdriver.common.by import By\n",
    "from selenium.webdriver.support.ui import WebDriverWait\n",
    "from selenium.webdriver.chrome.options import Options\n",
    "from selenium.webdriver.common.action_chains import ActionChains\n",
    "from bs4 import BeautifulSoup\n",
    "import pandas as pd\n",
    "import openpyxl\n",
    "import os\n",
    "import time\n",
    "import math\n",
    "import webbrowser\n",
    "import numpy as np\n",
    "import re\n",
    "import sys\n",
    "from pandas import DataFrame"
   ]
  },
  {
   "cell_type": "code",
   "execution_count": 11,
   "metadata": {},
   "outputs": [],
   "source": [
    "# URL 설정 및 ChromeDriver 실행\n",
    "url = 'https://www.oliveyoung.co.kr/store/goods/getGoodsDetail.do?goodsNo=B000000150924&t_page=%ED%86%B5%ED%95%A9%EA%B2%80%EC%83%89%EA%B2%B0%EA%B3%BC%ED%8E%98%EC%9D%B4%EC%A7%80&t_click=%EA%B2%80%EC%83%89%EC%83%81%ED%92%88%EC%83%81%EC%84%B8&t_search_name=%EC%B4%88%EB%AF%B8%EC%84%B8%ED%92%8D&t_number=1&dispCatNo=1000003000500120004&trackingCd=Result_1'\n",
    "driver = webdriver.Chrome()\n",
    "time.sleep(2)\n",
    "driver.maximize_window()\n",
    "driver.get(url)\n",
    "time.sleep(5)"
   ]
  },
  {
   "cell_type": "code",
   "execution_count": 15,
   "metadata": {},
   "outputs": [
    {
     "name": "stdout",
     "output_type": "stream",
     "text": [
      "1\n",
      "얼마전에 사보고 너무 마음에 들어서 재구매했습니다\n",
      "3단계부터는 거의 소리가 안나구요\n",
      "회전시에도 좌우로 이동하는 소리가 안 나서 좋아요\n",
      "리모콘으로 조절할 수 있어서 너무 편해요\n",
      "14인치를 살까 하다가 12인치를 샀는데\n",
      "생각보다 크기가 작지 않아서 만족스럽습니다\n",
      "올 화이트이나 밑바닥은 검정색입니다\n",
      "무게도 가볍고 조립도 굉장히 쉽습니다\n",
      "여하튼 1000% 만족입니다\n",
      "방ㅈ마다 한개씩 넣ㅇㆍ\n"
     ]
    }
   ],
   "source": [
    "temp = driver.find_elements(By.XPATH, '//*[@id=\"gdasList\"]/li[1]/div[2]/div[3]')\n",
    "\n",
    "print(len(temp))\n",
    "\n",
    "for i in temp:\n",
    "    print(i.text)"
   ]
  },
  {
   "cell_type": "code",
   "execution_count": null,
   "metadata": {},
   "outputs": [],
   "source": []
  }
 ],
 "metadata": {
  "kernelspec": {
   "display_name": "langchain",
   "language": "python",
   "name": "python3"
  },
  "language_info": {
   "codemirror_mode": {
    "name": "ipython",
    "version": 3
   },
   "file_extension": ".py",
   "mimetype": "text/x-python",
   "name": "python",
   "nbconvert_exporter": "python",
   "pygments_lexer": "ipython3",
   "version": "3.11.10"
  }
 },
 "nbformat": 4,
 "nbformat_minor": 2
}
