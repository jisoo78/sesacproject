{
 "cells": [
  {
   "cell_type": "code",
   "execution_count": 1,
   "metadata": {},
   "outputs": [],
   "source": [
    "from selenium import webdriver\n",
    "from selenium.webdriver.common.keys import Keys\n",
    "from selenium.webdriver.support.wait import WebDriverWait\n",
    "from selenium.webdriver.support import expected_conditions as EC\n",
    "from selenium.webdriver.common.by import By\n",
    "from selenium.webdriver.support.ui import WebDriverWait\n",
    "from selenium.webdriver.chrome.options import Options\n",
    "from selenium.webdriver.common.action_chains import ActionChains\n",
    "from bs4 import BeautifulSoup\n",
    "import pandas as pd\n",
    "import openpyxl\n",
    "import os\n",
    "import time\n",
    "import math\n",
    "import webbrowser\n",
    "import numpy as np\n",
    "import re\n",
    "import sys\n",
    "from pandas import DataFrame"
   ]
  },
  {
   "cell_type": "code",
   "execution_count": 2,
   "metadata": {},
   "outputs": [],
   "source": [
    "# URL 설정 및 ChromeDriver 실행\n",
    "url = 'https://www.oliveyoung.co.kr/store/goods/getGoodsDetail.do?goodsNo=B000000150924&t_page=%ED%86%B5%ED%95%A9%EA%B2%80%EC%83%89%EA%B2%B0%EA%B3%BC%ED%8E%98%EC%9D%B4%EC%A7%80&t_click=%EA%B2%80%EC%83%89%EC%83%81%ED%92%88%EC%83%81%EC%84%B8&t_search_name=%EC%B4%88%EB%AF%B8%EC%84%B8%ED%92%8D&t_number=1&dispCatNo=1000003000500120004&trackingCd=Result_1'\n",
    "driver = webdriver.Chrome()\n",
    "time.sleep(2)\n",
    "driver.maximize_window()\n",
    "driver.get(url)\n",
    "time.sleep(5)"
   ]
  },
  {
   "cell_type": "code",
   "execution_count": 3,
   "metadata": {},
   "outputs": [
    {
     "name": "stdout",
     "output_type": "stream",
     "text": [
      "1\n",
      "얼마전에 사보고 너무 마음에 들어서 재구매했습니다\n",
      "3단계부터는 거의 소리가 안나구요\n",
      "회전시에도 좌우로 이동하는 소리가 안 나서 좋아요\n",
      "리모콘으로 조절할 수 있어서 너무 편해요\n",
      "14인치를 살까 하다가 12인치를 샀는데\n",
      "생각보다 크기가 작지 않아서 만족스럽습니다\n",
      "올 화이트이나 밑바닥은 검정색입니다\n",
      "무게도 가볍고 조립도 굉장히 쉽습니다\n",
      "여하튼 1000% 만족입니다\n",
      "방ㅈ마다 한개씩 넣ㅇㆍ\n"
     ]
    }
   ],
   "source": [
    "temp = driver.find_elements(By.XPATH, '//*[@id=\"gdasList\"]/li[1]/div[2]/div[3]')\n",
    "\n",
    "print(len(temp))\n",
    "\n",
    "for i in temp:\n",
    "    print(i.text)"
   ]
  },
  {
   "cell_type": "code",
   "execution_count": 4,
   "metadata": {},
   "outputs": [
    {
     "name": "stdout",
     "output_type": "stream",
     "text": [
      "1\n",
      "너무 유명한 브랜드인 보만의 저소음 선풍기 구매하였습니다. 여름을 맞아 에어컨 풀가동 전에 시원하게 보내고자 기존에 다른 브랜드의 선풍기가 있으나 하나 더 구매하였습니다. 브랜드 상을 휩쓴 브랜드 답게 디자인도 이쁘고 내구성도 좋습니다. 더욱이 신기했던 건 보통의 1-3단의 바람세기가 아닌 온도에 맞은 바람세기가 12단계로 다양하게 있다는 점과 역시나 리모컨으로 작동가능한 점이 눈길을 잡았습니다. 바람이 나오는 팬역시 타 선풍기와 다르게 7겹으로 되어 있어 소음이 적어 수면중에도 불편함 없이 사용하고 있습니다. 8시간의 타이머 조정이 가능하고 인증받은 안정성으로 만족스럽게 사용중에 있습니다.\n"
     ]
    }
   ],
   "source": [
    "temp = driver.find_elements(By.XPATH, '//*[@id=\"gdasList\"]/li[2]/div[2]/div[3]')\n",
    "\n",
    "print(len(temp))\n",
    "\n",
    "for i in temp:\n",
    "    print(i.text)"
   ]
  },
  {
   "cell_type": "code",
   "execution_count": 5,
   "metadata": {},
   "outputs": [
    {
     "name": "stdout",
     "output_type": "stream",
     "text": [
      "1\n",
      "작지만 강한 선풍기입니다\n",
      "저단계는 소리가 거의 없습니다\n",
      "그런데도 바람세기는 만족스러워요\n",
      "비싼 발**보다 가성비 훨씬 좋습니다\n",
      "조립도 간편합니다\n"
     ]
    }
   ],
   "source": [
    "temp = driver.find_elements(By.XPATH, '//*[@id=\"gdasList\"]/li[3]/div[2]/div[3]')\n",
    "\n",
    "print(len(temp))\n",
    "\n",
    "for i in temp:\n",
    "    print(i.text)"
   ]
  },
  {
   "cell_type": "code",
   "execution_count": 6,
   "metadata": {},
   "outputs": [
    {
     "name": "stdout",
     "output_type": "stream",
     "text": [
      "얼마전에 사보고 너무 마음에 들어서 재구매했습니다\n",
      "3단계부터는 거의 소리가 안나구요\n",
      "회전시에도 좌우로 이동하는 소리가 안 나서 좋아요\n",
      "리모콘으로 조절할 수 있어서 너무 편해요\n",
      "14인치를 살까 하다가 12인치를 샀는데\n",
      "생각보다 크기가 작지 않아서 만족스럽습니다\n",
      "올 화이트이나 밑바닥은 검정색입니다\n",
      "무게도 가볍고 조립도 굉장히 쉽습니다\n",
      "여하튼 1000% 만족입니다\n",
      "방ㅈ마다 한개씩 넣ㅇㆍ\n",
      "너무 유명한 브랜드인 보만의 저소음 선풍기 구매하였습니다. 여름을 맞아 에어컨 풀가동 전에 시원하게 보내고자 기존에 다른 브랜드의 선풍기가 있으나 하나 더 구매하였습니다. 브랜드 상을 휩쓴 브랜드 답게 디자인도 이쁘고 내구성도 좋습니다. 더욱이 신기했던 건 보통의 1-3단의 바람세기가 아닌 온도에 맞은 바람세기가 12단계로 다양하게 있다는 점과 역시나 리모컨으로 작동가능한 점이 눈길을 잡았습니다. 바람이 나오는 팬역시 타 선풍기와 다르게 7겹으로 되어 있어 소음이 적어 수면중에도 불편함 없이 사용하고 있습니다. 8시간의 타이머 조정이 가능하고 인증받은 안정성으로 만족스럽게 사용중에 있습니다.\n",
      "작지만 강한 선풍기입니다\n",
      "저단계는 소리가 거의 없습니다\n",
      "그런데도 바람세기는 만족스러워요\n",
      "비싼 발**보다 가성비 훨씬 좋습니다\n",
      "조립도 간편합니다\n",
      "예뻐요 크기도 맘에 들구요 ㅎㅎ\n",
      "강추해요 2개 주문해서 아이방에도 하나뒀어요\n",
      "부모님에게 보내드렸고 보만이라는 제품이 선풍기로 또 유명하여 시켰습니다. 미세한 바람조절과 브랜드만의 감성이 잘 드러나서 아주 만족하는 제품이었고, 집 안의 다른 선풍기들도 곧 보만 제품으로 바꿀 것 같아요. 소리도 적고 전기소모에 대해서는 확실하게 알 수 있는 방법은 없지만 적게 든다고 하니 전기소모량또한 좋을 것으로 생각됩니다. 초미세풍이라는 이름답게 아기들이나 바람에 민감하신 분들이 사용하시기에 아주 적합하다고 생각해요. 사실 시중에 나와있는 제품중 이정도로 바람단계가 나누어진 제품이 없다고 저는 알고 있습니다. 강력 추천드려요!\n",
      "BLDC 모터를 시용하여 조용하고 7엽의 부드러운 바람에 LED 컨트롤 디스플레이 모두 만족스럽네요 보만의 디자인도 모두 만족스럽네요...제품임에 틀림 없네요...\n",
      "너무 마음들어요!\n",
      "조용하고 리모콘 조정에\n",
      "원하는기능 까지 만족해요\n",
      "정말 소리가 안나서 잘때 편하게 잘수있어요.\n",
      "등 색깔도 바껴서 숙면 취할수 있고 온도조절까지 되서 너무 좋아요.\n",
      "여름에 갑작스레 쓰던 선풍기가 망가져서 구매했어요\n",
      "하얀색에 깔끔해보여서 맘에 들었는데 내구성 안좋아요\n",
      "회전돌리면 3단만 되어도 소음발생합니다 한달도 안썼는데 소음 심해서 수리 들어갔다 왔구요 또 다시 한달쯤되니 회전할때 삐그덕 소리나요 심한정도는 아니라서 수리하기도 애매한데 새벽에는 거슬릴정도의 소음이예요\n",
      "as연결도 쉽지않아서 여러번 시도끝에 가능했구요 응대하시는 직원분이 빠르고 친절하게 처리해주셔서 그건 만족했습니다\n",
      "그리고 젤 큰 문제!!\n",
      "정지상태 일때도 전원 선이 연결되어있으면 전원 램프가 깜빡여서 밤에 계속 반짝반짝 합니다 이게 젤 불편해요 리모컨있음 뭐하나요 정지 시키면 불이 반짝이고 그거 싫으면 결국 일어나서 선을 뽑고 자야하는데요ㅠ\n",
      "운전중에는 불빛세기를 조정할 수 있는데 왜 정지중엔 소등이 안되는지 모르겠네요\n",
      "조립이 간단하고 가벼워요. 조립이다 보니 튼튼한 느낌은 아니지만 완제품과 다르지 않습니다.\n",
      "보만 선풍기 사이즈가 12/14 2가지 있길래 작은게 집에 어울리겠다 싶어 12 샀는데 제 생각보다는 컸습니다.\n",
      "흰색 가전이라 깔끔하고 심플해서 어디에도 잘 어울리는거 같구요.\n",
      "작동해봤는데 필요한 가능은 다 있고 소음도 거의 없습니다. 사용중인 서큘레이터가 소음이 있는편이라 더 조용하게 느껴진듯하네요.. 바람세기 단계가 너무 많은것 같기도 한데 사용하다보면 익숙해지겠죠..\n",
      "만족합니다.\n"
     ]
    }
   ],
   "source": [
    "for index in range(1, 11):  \n",
    "    xpath = f'//*[@id=\"gdasList\"]/li[{index}]/div[2]/div[3]'\n",
    "    \n",
    "    temp = driver.find_elements(By.XPATH, xpath)\n",
    "    \n",
    "    if len(temp) > 0:\n",
    "        for i in temp:\n",
    "            print(i.text) \n",
    "    else:\n",
    "        print(f\"No element found for li[{index}]\")\n"
   ]
  },
  {
   "cell_type": "code",
   "execution_count": 7,
   "metadata": {},
   "outputs": [
    {
     "name": "stdout",
     "output_type": "stream",
     "text": [
      "1\n",
      "4.8\n"
     ]
    }
   ],
   "source": [
    "temp = driver.find_elements(By.XPATH, '//*[@id=\"gdasContentsArea\"]/div/div[1]/div/div[2]/p[2]/strong')\n",
    "\n",
    "print(len(temp))\n",
    "\n",
    "for i in temp:\n",
    "    print(i.text)"
   ]
  },
  {
   "cell_type": "code",
   "execution_count": null,
   "metadata": {},
   "outputs": [],
   "source": []
  }
 ],
 "metadata": {
  "kernelspec": {
   "display_name": "langchain",
   "language": "python",
   "name": "python3"
  },
  "language_info": {
   "codemirror_mode": {
    "name": "ipython",
    "version": 3
   },
   "file_extension": ".py",
   "mimetype": "text/x-python",
   "name": "python",
   "nbconvert_exporter": "python",
   "pygments_lexer": "ipython3",
   "version": "3.11.10"
  }
 },
 "nbformat": 4,
 "nbformat_minor": 2
}
